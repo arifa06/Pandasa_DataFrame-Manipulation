{
 "metadata": {
  "language_info": {
   "codemirror_mode": {
    "name": "ipython",
    "version": 3
   },
   "file_extension": ".py",
   "mimetype": "text/x-python",
   "name": "python",
   "nbconvert_exporter": "python",
   "pygments_lexer": "ipython3",
   "version": "3.9.2-final"
  },
  "orig_nbformat": 2,
  "kernelspec": {
   "name": "python3",
   "display_name": "Python 3.9.2 64-bit",
   "metadata": {
    "interpreter": {
     "hash": "f7b07a48f3b3e9900664b7cde7d498fa588706d27fd88a439771392aecf50319"
    }
   }
  }
 },
 "nbformat": 4,
 "nbformat_minor": 2,
 "cells": [
  {
   "cell_type": "code",
   "execution_count": 1,
   "metadata": {},
   "outputs": [],
   "source": [
    "import pandas as pd\n",
    "import numpy as np"
   ]
  },
  {
   "cell_type": "code",
   "execution_count": 3,
   "metadata": {},
   "outputs": [],
   "source": [
    "asx = [i for i in range(1,5)]\n",
    "bsx = [i for i in range(5,9)]\n",
    "csx = [i for i in range(9,13)]"
   ]
  },
  {
   "cell_type": "code",
   "execution_count": 4,
   "metadata": {},
   "outputs": [
    {
     "output_type": "execute_result",
     "data": {
      "text/plain": [
       "   w   x   y   z\n",
       "a  1   2   3   4\n",
       "b  5   6   7   8\n",
       "c  9  10  11  12"
      ],
      "text/html": "<div>\n<style scoped>\n    .dataframe tbody tr th:only-of-type {\n        vertical-align: middle;\n    }\n\n    .dataframe tbody tr th {\n        vertical-align: top;\n    }\n\n    .dataframe thead th {\n        text-align: right;\n    }\n</style>\n<table border=\"1\" class=\"dataframe\">\n  <thead>\n    <tr style=\"text-align: right;\">\n      <th></th>\n      <th>w</th>\n      <th>x</th>\n      <th>y</th>\n      <th>z</th>\n    </tr>\n  </thead>\n  <tbody>\n    <tr>\n      <th>a</th>\n      <td>1</td>\n      <td>2</td>\n      <td>3</td>\n      <td>4</td>\n    </tr>\n    <tr>\n      <th>b</th>\n      <td>5</td>\n      <td>6</td>\n      <td>7</td>\n      <td>8</td>\n    </tr>\n    <tr>\n      <th>c</th>\n      <td>9</td>\n      <td>10</td>\n      <td>11</td>\n      <td>12</td>\n    </tr>\n  </tbody>\n</table>\n</div>"
     },
     "metadata": {},
     "execution_count": 4
    }
   ],
   "source": [
    "df = pd.DataFrame(data=[asx,bsx,csx],\n",
    "            index='a b c'.split(),\n",
    "            columns='w x y z'.split())\n",
    "df"
   ]
  },
  {
   "cell_type": "code",
   "execution_count": 5,
   "metadata": {},
   "outputs": [
    {
     "output_type": "execute_result",
     "data": {
      "text/plain": [
       "   a  b   c\n",
       "w  1  5   9\n",
       "x  2  6  10\n",
       "y  3  7  11\n",
       "z  4  8  12"
      ],
      "text/html": "<div>\n<style scoped>\n    .dataframe tbody tr th:only-of-type {\n        vertical-align: middle;\n    }\n\n    .dataframe tbody tr th {\n        vertical-align: top;\n    }\n\n    .dataframe thead th {\n        text-align: right;\n    }\n</style>\n<table border=\"1\" class=\"dataframe\">\n  <thead>\n    <tr style=\"text-align: right;\">\n      <th></th>\n      <th>a</th>\n      <th>b</th>\n      <th>c</th>\n    </tr>\n  </thead>\n  <tbody>\n    <tr>\n      <th>w</th>\n      <td>1</td>\n      <td>5</td>\n      <td>9</td>\n    </tr>\n    <tr>\n      <th>x</th>\n      <td>2</td>\n      <td>6</td>\n      <td>10</td>\n    </tr>\n    <tr>\n      <th>y</th>\n      <td>3</td>\n      <td>7</td>\n      <td>11</td>\n    </tr>\n    <tr>\n      <th>z</th>\n      <td>4</td>\n      <td>8</td>\n      <td>12</td>\n    </tr>\n  </tbody>\n</table>\n</div>"
     },
     "metadata": {},
     "execution_count": 5
    }
   ],
   "source": [
    "pd.DataFrame(data=list(zip(asx,bsx,csx)),\n",
    "            index = 'w x y z'.split(),\n",
    "            columns = 'a b c'.split())"
   ]
  },
  {
   "cell_type": "code",
   "execution_count": 6,
   "metadata": {},
   "outputs": [
    {
     "output_type": "execute_result",
     "data": {
      "text/plain": [
       "   w   x   y   z\n",
       "a  1   2   3   4\n",
       "b  5   6   7   8\n",
       "c  9  10  11  12"
      ],
      "text/html": "<div>\n<style scoped>\n    .dataframe tbody tr th:only-of-type {\n        vertical-align: middle;\n    }\n\n    .dataframe tbody tr th {\n        vertical-align: top;\n    }\n\n    .dataframe thead th {\n        text-align: right;\n    }\n</style>\n<table border=\"1\" class=\"dataframe\">\n  <thead>\n    <tr style=\"text-align: right;\">\n      <th></th>\n      <th>w</th>\n      <th>x</th>\n      <th>y</th>\n      <th>z</th>\n    </tr>\n  </thead>\n  <tbody>\n    <tr>\n      <th>a</th>\n      <td>1</td>\n      <td>2</td>\n      <td>3</td>\n      <td>4</td>\n    </tr>\n    <tr>\n      <th>b</th>\n      <td>5</td>\n      <td>6</td>\n      <td>7</td>\n      <td>8</td>\n    </tr>\n    <tr>\n      <th>c</th>\n      <td>9</td>\n      <td>10</td>\n      <td>11</td>\n      <td>12</td>\n    </tr>\n  </tbody>\n</table>\n</div>"
     },
     "metadata": {},
     "execution_count": 6
    }
   ],
   "source": [
    "df"
   ]
  },
  {
   "cell_type": "code",
   "execution_count": 7,
   "metadata": {},
   "outputs": [
    {
     "output_type": "execute_result",
     "data": {
      "text/plain": [
       "     w   x   y   z\n",
       "a    1   2   3   4\n",
       "b    5   6   7   8\n",
       "c    9  10  11  12\n",
       "new  2   4   6   8"
      ],
      "text/html": "<div>\n<style scoped>\n    .dataframe tbody tr th:only-of-type {\n        vertical-align: middle;\n    }\n\n    .dataframe tbody tr th {\n        vertical-align: top;\n    }\n\n    .dataframe thead th {\n        text-align: right;\n    }\n</style>\n<table border=\"1\" class=\"dataframe\">\n  <thead>\n    <tr style=\"text-align: right;\">\n      <th></th>\n      <th>w</th>\n      <th>x</th>\n      <th>y</th>\n      <th>z</th>\n    </tr>\n  </thead>\n  <tbody>\n    <tr>\n      <th>a</th>\n      <td>1</td>\n      <td>2</td>\n      <td>3</td>\n      <td>4</td>\n    </tr>\n    <tr>\n      <th>b</th>\n      <td>5</td>\n      <td>6</td>\n      <td>7</td>\n      <td>8</td>\n    </tr>\n    <tr>\n      <th>c</th>\n      <td>9</td>\n      <td>10</td>\n      <td>11</td>\n      <td>12</td>\n    </tr>\n    <tr>\n      <th>new</th>\n      <td>2</td>\n      <td>4</td>\n      <td>6</td>\n      <td>8</td>\n    </tr>\n  </tbody>\n</table>\n</div>"
     },
     "metadata": {},
     "execution_count": 7
    }
   ],
   "source": [
    "df.loc['new']=[2,4,6,8]\n",
    "df"
   ]
  },
  {
   "cell_type": "code",
   "execution_count": 8,
   "metadata": {},
   "outputs": [
    {
     "output_type": "execute_result",
     "data": {
      "text/plain": [
       "     w   x   y   z  new\n",
       "a    1   2   3   4    4\n",
       "b    5   6   7   8   12\n",
       "c    9  10  11  12   20\n",
       "new  2   4   6   8    8"
      ],
      "text/html": "<div>\n<style scoped>\n    .dataframe tbody tr th:only-of-type {\n        vertical-align: middle;\n    }\n\n    .dataframe tbody tr th {\n        vertical-align: top;\n    }\n\n    .dataframe thead th {\n        text-align: right;\n    }\n</style>\n<table border=\"1\" class=\"dataframe\">\n  <thead>\n    <tr style=\"text-align: right;\">\n      <th></th>\n      <th>w</th>\n      <th>x</th>\n      <th>y</th>\n      <th>z</th>\n      <th>new</th>\n    </tr>\n  </thead>\n  <tbody>\n    <tr>\n      <th>a</th>\n      <td>1</td>\n      <td>2</td>\n      <td>3</td>\n      <td>4</td>\n      <td>4</td>\n    </tr>\n    <tr>\n      <th>b</th>\n      <td>5</td>\n      <td>6</td>\n      <td>7</td>\n      <td>8</td>\n      <td>12</td>\n    </tr>\n    <tr>\n      <th>c</th>\n      <td>9</td>\n      <td>10</td>\n      <td>11</td>\n      <td>12</td>\n      <td>20</td>\n    </tr>\n    <tr>\n      <th>new</th>\n      <td>2</td>\n      <td>4</td>\n      <td>6</td>\n      <td>8</td>\n      <td>8</td>\n    </tr>\n  </tbody>\n</table>\n</div>"
     },
     "metadata": {},
     "execution_count": 8
    }
   ],
   "source": [
    "df['new'] = df['w'] + df['y']\n",
    "df"
   ]
  },
  {
   "cell_type": "code",
   "execution_count": 9,
   "metadata": {},
   "outputs": [
    {
     "output_type": "execute_result",
     "data": {
      "text/plain": [
       "     w   x  apa   y   z  new\n",
       "a    1   2    1   3   4    4\n",
       "b    5   6    2   7   8   12\n",
       "c    9  10    3  11  12   20\n",
       "new  2   4    4   6   8    8"
      ],
      "text/html": "<div>\n<style scoped>\n    .dataframe tbody tr th:only-of-type {\n        vertical-align: middle;\n    }\n\n    .dataframe tbody tr th {\n        vertical-align: top;\n    }\n\n    .dataframe thead th {\n        text-align: right;\n    }\n</style>\n<table border=\"1\" class=\"dataframe\">\n  <thead>\n    <tr style=\"text-align: right;\">\n      <th></th>\n      <th>w</th>\n      <th>x</th>\n      <th>apa</th>\n      <th>y</th>\n      <th>z</th>\n      <th>new</th>\n    </tr>\n  </thead>\n  <tbody>\n    <tr>\n      <th>a</th>\n      <td>1</td>\n      <td>2</td>\n      <td>1</td>\n      <td>3</td>\n      <td>4</td>\n      <td>4</td>\n    </tr>\n    <tr>\n      <th>b</th>\n      <td>5</td>\n      <td>6</td>\n      <td>2</td>\n      <td>7</td>\n      <td>8</td>\n      <td>12</td>\n    </tr>\n    <tr>\n      <th>c</th>\n      <td>9</td>\n      <td>10</td>\n      <td>3</td>\n      <td>11</td>\n      <td>12</td>\n      <td>20</td>\n    </tr>\n    <tr>\n      <th>new</th>\n      <td>2</td>\n      <td>4</td>\n      <td>4</td>\n      <td>6</td>\n      <td>8</td>\n      <td>8</td>\n    </tr>\n  </tbody>\n</table>\n</div>"
     },
     "metadata": {},
     "execution_count": 9
    }
   ],
   "source": [
    "df.insert(2,'apa',[1,2,3,4])\n",
    "df"
   ]
  },
  {
   "cell_type": "code",
   "execution_count": 10,
   "metadata": {},
   "outputs": [
    {
     "output_type": "execute_result",
     "data": {
      "text/plain": [
       "     w   x  apa   y   z\n",
       "a    1   2    1   3   4\n",
       "b    5   6    2   7   8\n",
       "c    9  10    3  11  12\n",
       "new  2   4    4   6   8"
      ],
      "text/html": "<div>\n<style scoped>\n    .dataframe tbody tr th:only-of-type {\n        vertical-align: middle;\n    }\n\n    .dataframe tbody tr th {\n        vertical-align: top;\n    }\n\n    .dataframe thead th {\n        text-align: right;\n    }\n</style>\n<table border=\"1\" class=\"dataframe\">\n  <thead>\n    <tr style=\"text-align: right;\">\n      <th></th>\n      <th>w</th>\n      <th>x</th>\n      <th>apa</th>\n      <th>y</th>\n      <th>z</th>\n    </tr>\n  </thead>\n  <tbody>\n    <tr>\n      <th>a</th>\n      <td>1</td>\n      <td>2</td>\n      <td>1</td>\n      <td>3</td>\n      <td>4</td>\n    </tr>\n    <tr>\n      <th>b</th>\n      <td>5</td>\n      <td>6</td>\n      <td>2</td>\n      <td>7</td>\n      <td>8</td>\n    </tr>\n    <tr>\n      <th>c</th>\n      <td>9</td>\n      <td>10</td>\n      <td>3</td>\n      <td>11</td>\n      <td>12</td>\n    </tr>\n    <tr>\n      <th>new</th>\n      <td>2</td>\n      <td>4</td>\n      <td>4</td>\n      <td>6</td>\n      <td>8</td>\n    </tr>\n  </tbody>\n</table>\n</div>"
     },
     "metadata": {},
     "execution_count": 10
    }
   ],
   "source": [
    "df.drop('new',axis=1)"
   ]
  },
  {
   "cell_type": "code",
   "execution_count": 11,
   "metadata": {},
   "outputs": [
    {
     "output_type": "execute_result",
     "data": {
      "text/plain": [
       "     w   x  apa   y   z  new\n",
       "a    1   2    1   3   4    4\n",
       "b    5   6    2   7   8   12\n",
       "c    9  10    3  11  12   20\n",
       "new  2   4    4   6   8    8"
      ],
      "text/html": "<div>\n<style scoped>\n    .dataframe tbody tr th:only-of-type {\n        vertical-align: middle;\n    }\n\n    .dataframe tbody tr th {\n        vertical-align: top;\n    }\n\n    .dataframe thead th {\n        text-align: right;\n    }\n</style>\n<table border=\"1\" class=\"dataframe\">\n  <thead>\n    <tr style=\"text-align: right;\">\n      <th></th>\n      <th>w</th>\n      <th>x</th>\n      <th>apa</th>\n      <th>y</th>\n      <th>z</th>\n      <th>new</th>\n    </tr>\n  </thead>\n  <tbody>\n    <tr>\n      <th>a</th>\n      <td>1</td>\n      <td>2</td>\n      <td>1</td>\n      <td>3</td>\n      <td>4</td>\n      <td>4</td>\n    </tr>\n    <tr>\n      <th>b</th>\n      <td>5</td>\n      <td>6</td>\n      <td>2</td>\n      <td>7</td>\n      <td>8</td>\n      <td>12</td>\n    </tr>\n    <tr>\n      <th>c</th>\n      <td>9</td>\n      <td>10</td>\n      <td>3</td>\n      <td>11</td>\n      <td>12</td>\n      <td>20</td>\n    </tr>\n    <tr>\n      <th>new</th>\n      <td>2</td>\n      <td>4</td>\n      <td>4</td>\n      <td>6</td>\n      <td>8</td>\n      <td>8</td>\n    </tr>\n  </tbody>\n</table>\n</div>"
     },
     "metadata": {},
     "execution_count": 11
    }
   ],
   "source": [
    "df"
   ]
  },
  {
   "cell_type": "code",
   "execution_count": 12,
   "metadata": {},
   "outputs": [
    {
     "output_type": "execute_result",
     "data": {
      "text/plain": [
       "  index  w   x  apa   y   z  new\n",
       "0     a  1   2    1   3   4    4\n",
       "1     b  5   6    2   7   8   12\n",
       "2     c  9  10    3  11  12   20\n",
       "3   new  2   4    4   6   8    8"
      ],
      "text/html": "<div>\n<style scoped>\n    .dataframe tbody tr th:only-of-type {\n        vertical-align: middle;\n    }\n\n    .dataframe tbody tr th {\n        vertical-align: top;\n    }\n\n    .dataframe thead th {\n        text-align: right;\n    }\n</style>\n<table border=\"1\" class=\"dataframe\">\n  <thead>\n    <tr style=\"text-align: right;\">\n      <th></th>\n      <th>index</th>\n      <th>w</th>\n      <th>x</th>\n      <th>apa</th>\n      <th>y</th>\n      <th>z</th>\n      <th>new</th>\n    </tr>\n  </thead>\n  <tbody>\n    <tr>\n      <th>0</th>\n      <td>a</td>\n      <td>1</td>\n      <td>2</td>\n      <td>1</td>\n      <td>3</td>\n      <td>4</td>\n      <td>4</td>\n    </tr>\n    <tr>\n      <th>1</th>\n      <td>b</td>\n      <td>5</td>\n      <td>6</td>\n      <td>2</td>\n      <td>7</td>\n      <td>8</td>\n      <td>12</td>\n    </tr>\n    <tr>\n      <th>2</th>\n      <td>c</td>\n      <td>9</td>\n      <td>10</td>\n      <td>3</td>\n      <td>11</td>\n      <td>12</td>\n      <td>20</td>\n    </tr>\n    <tr>\n      <th>3</th>\n      <td>new</td>\n      <td>2</td>\n      <td>4</td>\n      <td>4</td>\n      <td>6</td>\n      <td>8</td>\n      <td>8</td>\n    </tr>\n  </tbody>\n</table>\n</div>"
     },
     "metadata": {},
     "execution_count": 12
    }
   ],
   "source": [
    "df.reset_index()"
   ]
  },
  {
   "cell_type": "code",
   "execution_count": 16,
   "metadata": {},
   "outputs": [
    {
     "output_type": "execute_result",
     "data": {
      "text/plain": [
       "['CA', 'NB', 'WC', 'OD']"
      ]
     },
     "metadata": {},
     "execution_count": 16
    }
   ],
   "source": [
    "newind = 'CA NB WC OD'.split()\n",
    "newind"
   ]
  },
  {
   "cell_type": "code",
   "execution_count": 17,
   "metadata": {},
   "outputs": [
    {
     "output_type": "execute_result",
     "data": {
      "text/plain": [
       "     w   x  apa   y   z  new states\n",
       "a    1   2    1   3   4    4     CA\n",
       "b    5   6    2   7   8   12     NB\n",
       "c    9  10    3  11  12   20     WC\n",
       "new  2   4    4   6   8    8     OD"
      ],
      "text/html": "<div>\n<style scoped>\n    .dataframe tbody tr th:only-of-type {\n        vertical-align: middle;\n    }\n\n    .dataframe tbody tr th {\n        vertical-align: top;\n    }\n\n    .dataframe thead th {\n        text-align: right;\n    }\n</style>\n<table border=\"1\" class=\"dataframe\">\n  <thead>\n    <tr style=\"text-align: right;\">\n      <th></th>\n      <th>w</th>\n      <th>x</th>\n      <th>apa</th>\n      <th>y</th>\n      <th>z</th>\n      <th>new</th>\n      <th>states</th>\n    </tr>\n  </thead>\n  <tbody>\n    <tr>\n      <th>a</th>\n      <td>1</td>\n      <td>2</td>\n      <td>1</td>\n      <td>3</td>\n      <td>4</td>\n      <td>4</td>\n      <td>CA</td>\n    </tr>\n    <tr>\n      <th>b</th>\n      <td>5</td>\n      <td>6</td>\n      <td>2</td>\n      <td>7</td>\n      <td>8</td>\n      <td>12</td>\n      <td>NB</td>\n    </tr>\n    <tr>\n      <th>c</th>\n      <td>9</td>\n      <td>10</td>\n      <td>3</td>\n      <td>11</td>\n      <td>12</td>\n      <td>20</td>\n      <td>WC</td>\n    </tr>\n    <tr>\n      <th>new</th>\n      <td>2</td>\n      <td>4</td>\n      <td>4</td>\n      <td>6</td>\n      <td>8</td>\n      <td>8</td>\n      <td>OD</td>\n    </tr>\n  </tbody>\n</table>\n</div>"
     },
     "metadata": {},
     "execution_count": 17
    }
   ],
   "source": [
    "df['states'] = newind\n",
    "df"
   ]
  },
  {
   "cell_type": "code",
   "execution_count": 18,
   "metadata": {},
   "outputs": [
    {
     "output_type": "execute_result",
     "data": {
      "text/plain": [
       "        w   x  apa   y   z  new\n",
       "states                         \n",
       "CA      1   2    1   3   4    4\n",
       "NB      5   6    2   7   8   12\n",
       "WC      9  10    3  11  12   20\n",
       "OD      2   4    4   6   8    8"
      ],
      "text/html": "<div>\n<style scoped>\n    .dataframe tbody tr th:only-of-type {\n        vertical-align: middle;\n    }\n\n    .dataframe tbody tr th {\n        vertical-align: top;\n    }\n\n    .dataframe thead th {\n        text-align: right;\n    }\n</style>\n<table border=\"1\" class=\"dataframe\">\n  <thead>\n    <tr style=\"text-align: right;\">\n      <th></th>\n      <th>w</th>\n      <th>x</th>\n      <th>apa</th>\n      <th>y</th>\n      <th>z</th>\n      <th>new</th>\n    </tr>\n    <tr>\n      <th>states</th>\n      <th></th>\n      <th></th>\n      <th></th>\n      <th></th>\n      <th></th>\n      <th></th>\n    </tr>\n  </thead>\n  <tbody>\n    <tr>\n      <th>CA</th>\n      <td>1</td>\n      <td>2</td>\n      <td>1</td>\n      <td>3</td>\n      <td>4</td>\n      <td>4</td>\n    </tr>\n    <tr>\n      <th>NB</th>\n      <td>5</td>\n      <td>6</td>\n      <td>2</td>\n      <td>7</td>\n      <td>8</td>\n      <td>12</td>\n    </tr>\n    <tr>\n      <th>WC</th>\n      <td>9</td>\n      <td>10</td>\n      <td>3</td>\n      <td>11</td>\n      <td>12</td>\n      <td>20</td>\n    </tr>\n    <tr>\n      <th>OD</th>\n      <td>2</td>\n      <td>4</td>\n      <td>4</td>\n      <td>6</td>\n      <td>8</td>\n      <td>8</td>\n    </tr>\n  </tbody>\n</table>\n</div>"
     },
     "metadata": {},
     "execution_count": 18
    }
   ],
   "source": [
    "df.set_index('states')"
   ]
  },
  {
   "cell_type": "code",
   "execution_count": 19,
   "metadata": {},
   "outputs": [
    {
     "output_type": "execute_result",
     "data": {
      "text/plain": [
       "     w   x  apa   y   z  new states\n",
       "a    1   2    1   3   4    4     CA\n",
       "b    5   6    2   7   8   12     NB\n",
       "c    9  10    3  11  12   20     WC\n",
       "new  2   4    4   6   8    8     OD"
      ],
      "text/html": "<div>\n<style scoped>\n    .dataframe tbody tr th:only-of-type {\n        vertical-align: middle;\n    }\n\n    .dataframe tbody tr th {\n        vertical-align: top;\n    }\n\n    .dataframe thead th {\n        text-align: right;\n    }\n</style>\n<table border=\"1\" class=\"dataframe\">\n  <thead>\n    <tr style=\"text-align: right;\">\n      <th></th>\n      <th>w</th>\n      <th>x</th>\n      <th>apa</th>\n      <th>y</th>\n      <th>z</th>\n      <th>new</th>\n      <th>states</th>\n    </tr>\n  </thead>\n  <tbody>\n    <tr>\n      <th>a</th>\n      <td>1</td>\n      <td>2</td>\n      <td>1</td>\n      <td>3</td>\n      <td>4</td>\n      <td>4</td>\n      <td>CA</td>\n    </tr>\n    <tr>\n      <th>b</th>\n      <td>5</td>\n      <td>6</td>\n      <td>2</td>\n      <td>7</td>\n      <td>8</td>\n      <td>12</td>\n      <td>NB</td>\n    </tr>\n    <tr>\n      <th>c</th>\n      <td>9</td>\n      <td>10</td>\n      <td>3</td>\n      <td>11</td>\n      <td>12</td>\n      <td>20</td>\n      <td>WC</td>\n    </tr>\n    <tr>\n      <th>new</th>\n      <td>2</td>\n      <td>4</td>\n      <td>4</td>\n      <td>6</td>\n      <td>8</td>\n      <td>8</td>\n      <td>OD</td>\n    </tr>\n  </tbody>\n</table>\n</div>"
     },
     "metadata": {},
     "execution_count": 19
    }
   ],
   "source": [
    "df"
   ]
  },
  {
   "cell_type": "code",
   "execution_count": 20,
   "metadata": {},
   "outputs": [
    {
     "output_type": "execute_result",
     "data": {
      "text/plain": [
       "        w   x  apa   y   z  new\n",
       "states                         \n",
       "CA      1   2    1   3   4    4\n",
       "NB      5   6    2   7   8   12\n",
       "WC      9  10    3  11  12   20\n",
       "OD      2   4    4   6   8    8"
      ],
      "text/html": "<div>\n<style scoped>\n    .dataframe tbody tr th:only-of-type {\n        vertical-align: middle;\n    }\n\n    .dataframe tbody tr th {\n        vertical-align: top;\n    }\n\n    .dataframe thead th {\n        text-align: right;\n    }\n</style>\n<table border=\"1\" class=\"dataframe\">\n  <thead>\n    <tr style=\"text-align: right;\">\n      <th></th>\n      <th>w</th>\n      <th>x</th>\n      <th>apa</th>\n      <th>y</th>\n      <th>z</th>\n      <th>new</th>\n    </tr>\n    <tr>\n      <th>states</th>\n      <th></th>\n      <th></th>\n      <th></th>\n      <th></th>\n      <th></th>\n      <th></th>\n    </tr>\n  </thead>\n  <tbody>\n    <tr>\n      <th>CA</th>\n      <td>1</td>\n      <td>2</td>\n      <td>1</td>\n      <td>3</td>\n      <td>4</td>\n      <td>4</td>\n    </tr>\n    <tr>\n      <th>NB</th>\n      <td>5</td>\n      <td>6</td>\n      <td>2</td>\n      <td>7</td>\n      <td>8</td>\n      <td>12</td>\n    </tr>\n    <tr>\n      <th>WC</th>\n      <td>9</td>\n      <td>10</td>\n      <td>3</td>\n      <td>11</td>\n      <td>12</td>\n      <td>20</td>\n    </tr>\n    <tr>\n      <th>OD</th>\n      <td>2</td>\n      <td>4</td>\n      <td>4</td>\n      <td>6</td>\n      <td>8</td>\n      <td>8</td>\n    </tr>\n  </tbody>\n</table>\n</div>"
     },
     "metadata": {},
     "execution_count": 20
    }
   ],
   "source": [
    "df.set_index('states',inplace=True)\n",
    "df"
   ]
  },
  {
   "cell_type": "code",
   "execution_count": 21,
   "metadata": {},
   "outputs": [
    {
     "output_type": "execute_result",
     "data": {
      "text/plain": [
       "[('Jakarta', 1),\n",
       " ('Jakarta', 2),\n",
       " ('Jakarta', 3),\n",
       " ('Bandung', 1),\n",
       " ('Bandung', 2),\n",
       " ('Bandung', 3)]"
      ]
     },
     "metadata": {},
     "execution_count": 21
    }
   ],
   "source": [
    "outside = ['Jakarta','Jakarta','Jakarta','Bandung','Bandung','Bandung']\n",
    "inside = [1,2,3,1,2,3]\n",
    "hier_index = list(zip(outside,inside))\n",
    "hier_index"
   ]
  },
  {
   "cell_type": "code",
   "execution_count": 22,
   "metadata": {},
   "outputs": [
    {
     "output_type": "execute_result",
     "data": {
      "text/plain": [
       "MultiIndex([('Jakarta', 1),\n",
       "            ('Jakarta', 2),\n",
       "            ('Jakarta', 3),\n",
       "            ('Bandung', 1),\n",
       "            ('Bandung', 2),\n",
       "            ('Bandung', 3)],\n",
       "           )"
      ]
     },
     "metadata": {},
     "execution_count": 22
    }
   ],
   "source": [
    "hier_index = pd.MultiIndex.from_tuples(hier_index)\n",
    "hier_index"
   ]
  },
  {
   "cell_type": "code",
   "execution_count": 23,
   "metadata": {},
   "outputs": [
    {
     "output_type": "execute_result",
     "data": {
      "text/plain": [
       "           Restauran A  Restauran B\n",
       "Jakarta 1           26           13\n",
       "        2           75           45\n",
       "        3           98           75\n",
       "Bandung 1           82           71\n",
       "        2           16           39\n",
       "        3           48           88"
      ],
      "text/html": "<div>\n<style scoped>\n    .dataframe tbody tr th:only-of-type {\n        vertical-align: middle;\n    }\n\n    .dataframe tbody tr th {\n        vertical-align: top;\n    }\n\n    .dataframe thead th {\n        text-align: right;\n    }\n</style>\n<table border=\"1\" class=\"dataframe\">\n  <thead>\n    <tr style=\"text-align: right;\">\n      <th></th>\n      <th></th>\n      <th>Restauran A</th>\n      <th>Restauran B</th>\n    </tr>\n  </thead>\n  <tbody>\n    <tr>\n      <th rowspan=\"3\" valign=\"top\">Jakarta</th>\n      <th>1</th>\n      <td>26</td>\n      <td>13</td>\n    </tr>\n    <tr>\n      <th>2</th>\n      <td>75</td>\n      <td>45</td>\n    </tr>\n    <tr>\n      <th>3</th>\n      <td>98</td>\n      <td>75</td>\n    </tr>\n    <tr>\n      <th rowspan=\"3\" valign=\"top\">Bandung</th>\n      <th>1</th>\n      <td>82</td>\n      <td>71</td>\n    </tr>\n    <tr>\n      <th>2</th>\n      <td>16</td>\n      <td>39</td>\n    </tr>\n    <tr>\n      <th>3</th>\n      <td>48</td>\n      <td>88</td>\n    </tr>\n  </tbody>\n</table>\n</div>"
     },
     "metadata": {},
     "execution_count": 23
    }
   ],
   "source": [
    "df = pd.DataFrame(np.random.randint(1,100,(6,2)),\n",
    "index = hier_index,\n",
    "columns = ['Restauran A','Restauran B'])\n",
    "df"
   ]
  },
  {
   "cell_type": "code",
   "execution_count": 25,
   "metadata": {},
   "outputs": [
    {
     "output_type": "execute_result",
     "data": {
      "text/plain": [
       "   Restauran A  Restauran B\n",
       "1           26           13\n",
       "2           75           45\n",
       "3           98           75"
      ],
      "text/html": "<div>\n<style scoped>\n    .dataframe tbody tr th:only-of-type {\n        vertical-align: middle;\n    }\n\n    .dataframe tbody tr th {\n        vertical-align: top;\n    }\n\n    .dataframe thead th {\n        text-align: right;\n    }\n</style>\n<table border=\"1\" class=\"dataframe\">\n  <thead>\n    <tr style=\"text-align: right;\">\n      <th></th>\n      <th>Restauran A</th>\n      <th>Restauran B</th>\n    </tr>\n  </thead>\n  <tbody>\n    <tr>\n      <th>1</th>\n      <td>26</td>\n      <td>13</td>\n    </tr>\n    <tr>\n      <th>2</th>\n      <td>75</td>\n      <td>45</td>\n    </tr>\n    <tr>\n      <th>3</th>\n      <td>98</td>\n      <td>75</td>\n    </tr>\n  </tbody>\n</table>\n</div>"
     },
     "metadata": {},
     "execution_count": 25
    }
   ],
   "source": [
    "df.loc['Jakarta']"
   ]
  },
  {
   "cell_type": "code",
   "execution_count": 26,
   "metadata": {},
   "outputs": [
    {
     "output_type": "execute_result",
     "data": {
      "text/plain": [
       "Restauran A    26\n",
       "Restauran B    13\n",
       "Name: 1, dtype: int32"
      ]
     },
     "metadata": {},
     "execution_count": 26
    }
   ],
   "source": [
    "df.loc['Jakarta'].loc[1]"
   ]
  },
  {
   "cell_type": "code",
   "execution_count": 27,
   "metadata": {},
   "outputs": [
    {
     "output_type": "execute_result",
     "data": {
      "text/plain": [
       "   Restauran A  Restauran B\n",
       "1           26           13\n",
       "2           75           45\n",
       "3           98           75"
      ],
      "text/html": "<div>\n<style scoped>\n    .dataframe tbody tr th:only-of-type {\n        vertical-align: middle;\n    }\n\n    .dataframe tbody tr th {\n        vertical-align: top;\n    }\n\n    .dataframe thead th {\n        text-align: right;\n    }\n</style>\n<table border=\"1\" class=\"dataframe\">\n  <thead>\n    <tr style=\"text-align: right;\">\n      <th></th>\n      <th>Restauran A</th>\n      <th>Restauran B</th>\n    </tr>\n  </thead>\n  <tbody>\n    <tr>\n      <th>1</th>\n      <td>26</td>\n      <td>13</td>\n    </tr>\n    <tr>\n      <th>2</th>\n      <td>75</td>\n      <td>45</td>\n    </tr>\n    <tr>\n      <th>3</th>\n      <td>98</td>\n      <td>75</td>\n    </tr>\n  </tbody>\n</table>\n</div>"
     },
     "metadata": {},
     "execution_count": 27
    }
   ],
   "source": [
    "df.xs('Jakarta')"
   ]
  },
  {
   "cell_type": "code",
   "execution_count": 28,
   "metadata": {},
   "outputs": [
    {
     "output_type": "execute_result",
     "data": {
      "text/plain": [
       "Restauran A    26\n",
       "Restauran B    13\n",
       "Name: (Jakarta, 1), dtype: int32"
      ]
     },
     "metadata": {},
     "execution_count": 28
    }
   ],
   "source": [
    "df.xs(['Jakarta',1])"
   ]
  },
  {
   "cell_type": "code",
   "execution_count": 29,
   "metadata": {},
   "outputs": [
    {
     "output_type": "execute_result",
     "data": {
      "text/plain": [
       "FrozenList([None, None])"
      ]
     },
     "metadata": {},
     "execution_count": 29
    }
   ],
   "source": [
    "df.index.names"
   ]
  },
  {
   "cell_type": "code",
   "execution_count": 30,
   "metadata": {},
   "outputs": [
    {
     "output_type": "execute_result",
     "data": {
      "text/plain": [
       "                  Restauran A  Restauran B\n",
       "City    Location                          \n",
       "Jakarta 1                  26           13\n",
       "        2                  75           45\n",
       "        3                  98           75\n",
       "Bandung 1                  82           71\n",
       "        2                  16           39\n",
       "        3                  48           88"
      ],
      "text/html": "<div>\n<style scoped>\n    .dataframe tbody tr th:only-of-type {\n        vertical-align: middle;\n    }\n\n    .dataframe tbody tr th {\n        vertical-align: top;\n    }\n\n    .dataframe thead th {\n        text-align: right;\n    }\n</style>\n<table border=\"1\" class=\"dataframe\">\n  <thead>\n    <tr style=\"text-align: right;\">\n      <th></th>\n      <th></th>\n      <th>Restauran A</th>\n      <th>Restauran B</th>\n    </tr>\n    <tr>\n      <th>City</th>\n      <th>Location</th>\n      <th></th>\n      <th></th>\n    </tr>\n  </thead>\n  <tbody>\n    <tr>\n      <th rowspan=\"3\" valign=\"top\">Jakarta</th>\n      <th>1</th>\n      <td>26</td>\n      <td>13</td>\n    </tr>\n    <tr>\n      <th>2</th>\n      <td>75</td>\n      <td>45</td>\n    </tr>\n    <tr>\n      <th>3</th>\n      <td>98</td>\n      <td>75</td>\n    </tr>\n    <tr>\n      <th rowspan=\"3\" valign=\"top\">Bandung</th>\n      <th>1</th>\n      <td>82</td>\n      <td>71</td>\n    </tr>\n    <tr>\n      <th>2</th>\n      <td>16</td>\n      <td>39</td>\n    </tr>\n    <tr>\n      <th>3</th>\n      <td>48</td>\n      <td>88</td>\n    </tr>\n  </tbody>\n</table>\n</div>"
     },
     "metadata": {},
     "execution_count": 30
    }
   ],
   "source": [
    "df.index.names = ['City','Location']\n",
    "df"
   ]
  },
  {
   "cell_type": "code",
   "execution_count": 31,
   "metadata": {},
   "outputs": [
    {
     "output_type": "execute_result",
     "data": {
      "text/plain": [
       "         Restauran A  Restauran B\n",
       "City                             \n",
       "Jakarta           26           13\n",
       "Bandung           82           71"
      ],
      "text/html": "<div>\n<style scoped>\n    .dataframe tbody tr th:only-of-type {\n        vertical-align: middle;\n    }\n\n    .dataframe tbody tr th {\n        vertical-align: top;\n    }\n\n    .dataframe thead th {\n        text-align: right;\n    }\n</style>\n<table border=\"1\" class=\"dataframe\">\n  <thead>\n    <tr style=\"text-align: right;\">\n      <th></th>\n      <th>Restauran A</th>\n      <th>Restauran B</th>\n    </tr>\n    <tr>\n      <th>City</th>\n      <th></th>\n      <th></th>\n    </tr>\n  </thead>\n  <tbody>\n    <tr>\n      <th>Jakarta</th>\n      <td>26</td>\n      <td>13</td>\n    </tr>\n    <tr>\n      <th>Bandung</th>\n      <td>82</td>\n      <td>71</td>\n    </tr>\n  </tbody>\n</table>\n</div>"
     },
     "metadata": {},
     "execution_count": 31
    }
   ],
   "source": [
    "df.xs(1,level = 'Location')"
   ]
  },
  {
   "cell_type": "code",
   "execution_count": 38,
   "metadata": {},
   "outputs": [
    {
     "output_type": "execute_result",
     "data": {
      "text/plain": [
       "                  Restauran A  Restauran B\n",
       "City    Location                          \n",
       "Bandung 2                  16           39\n",
       "Jakarta 1                  26           13\n",
       "Bandung 3                  48           88\n",
       "Jakarta 2                  75           45\n",
       "Bandung 1                  82           71\n",
       "Jakarta 3                  98           75"
      ],
      "text/html": "<div>\n<style scoped>\n    .dataframe tbody tr th:only-of-type {\n        vertical-align: middle;\n    }\n\n    .dataframe tbody tr th {\n        vertical-align: top;\n    }\n\n    .dataframe thead th {\n        text-align: right;\n    }\n</style>\n<table border=\"1\" class=\"dataframe\">\n  <thead>\n    <tr style=\"text-align: right;\">\n      <th></th>\n      <th></th>\n      <th>Restauran A</th>\n      <th>Restauran B</th>\n    </tr>\n    <tr>\n      <th>City</th>\n      <th>Location</th>\n      <th></th>\n      <th></th>\n    </tr>\n  </thead>\n  <tbody>\n    <tr>\n      <th>Bandung</th>\n      <th>2</th>\n      <td>16</td>\n      <td>39</td>\n    </tr>\n    <tr>\n      <th>Jakarta</th>\n      <th>1</th>\n      <td>26</td>\n      <td>13</td>\n    </tr>\n    <tr>\n      <th>Bandung</th>\n      <th>3</th>\n      <td>48</td>\n      <td>88</td>\n    </tr>\n    <tr>\n      <th>Jakarta</th>\n      <th>2</th>\n      <td>75</td>\n      <td>45</td>\n    </tr>\n    <tr>\n      <th>Bandung</th>\n      <th>1</th>\n      <td>82</td>\n      <td>71</td>\n    </tr>\n    <tr>\n      <th>Jakarta</th>\n      <th>3</th>\n      <td>98</td>\n      <td>75</td>\n    </tr>\n  </tbody>\n</table>\n</div>"
     },
     "metadata": {},
     "execution_count": 38
    }
   ],
   "source": [
    "df.sort_values('Restauran A')"
   ]
  },
  {
   "cell_type": "code",
   "execution_count": 40,
   "metadata": {},
   "outputs": [
    {
     "output_type": "execute_result",
     "data": {
      "text/plain": [
       "                  Restauran A  Restauran B\n",
       "City    Location                          \n",
       "Bandung 2                  16           39\n",
       "Jakarta 1                  26           13\n",
       "Bandung 3                  48           88\n",
       "Jakarta 2                  75           45\n",
       "Bandung 1                  82           71\n",
       "Jakarta 3                  98           75"
      ],
      "text/html": "<div>\n<style scoped>\n    .dataframe tbody tr th:only-of-type {\n        vertical-align: middle;\n    }\n\n    .dataframe tbody tr th {\n        vertical-align: top;\n    }\n\n    .dataframe thead th {\n        text-align: right;\n    }\n</style>\n<table border=\"1\" class=\"dataframe\">\n  <thead>\n    <tr style=\"text-align: right;\">\n      <th></th>\n      <th></th>\n      <th>Restauran A</th>\n      <th>Restauran B</th>\n    </tr>\n    <tr>\n      <th>City</th>\n      <th>Location</th>\n      <th></th>\n      <th></th>\n    </tr>\n  </thead>\n  <tbody>\n    <tr>\n      <th>Bandung</th>\n      <th>2</th>\n      <td>16</td>\n      <td>39</td>\n    </tr>\n    <tr>\n      <th>Jakarta</th>\n      <th>1</th>\n      <td>26</td>\n      <td>13</td>\n    </tr>\n    <tr>\n      <th>Bandung</th>\n      <th>3</th>\n      <td>48</td>\n      <td>88</td>\n    </tr>\n    <tr>\n      <th>Jakarta</th>\n      <th>2</th>\n      <td>75</td>\n      <td>45</td>\n    </tr>\n    <tr>\n      <th>Bandung</th>\n      <th>1</th>\n      <td>82</td>\n      <td>71</td>\n    </tr>\n    <tr>\n      <th>Jakarta</th>\n      <th>3</th>\n      <td>98</td>\n      <td>75</td>\n    </tr>\n  </tbody>\n</table>\n</div>"
     },
     "metadata": {},
     "execution_count": 40
    }
   ],
   "source": [
    "df.sort_values('Restauran A',ascending=True)"
   ]
  },
  {
   "cell_type": "code",
   "execution_count": 41,
   "metadata": {},
   "outputs": [
    {
     "output_type": "execute_result",
     "data": {
      "text/plain": [
       "                  Restauran A  Restauran B\n",
       "City    Location                          \n",
       "Jakarta 3                  98           75\n",
       "Bandung 1                  82           71\n",
       "Jakarta 2                  75           45\n",
       "Bandung 3                  48           88\n",
       "Jakarta 1                  26           13\n",
       "Bandung 2                  16           39"
      ],
      "text/html": "<div>\n<style scoped>\n    .dataframe tbody tr th:only-of-type {\n        vertical-align: middle;\n    }\n\n    .dataframe tbody tr th {\n        vertical-align: top;\n    }\n\n    .dataframe thead th {\n        text-align: right;\n    }\n</style>\n<table border=\"1\" class=\"dataframe\">\n  <thead>\n    <tr style=\"text-align: right;\">\n      <th></th>\n      <th></th>\n      <th>Restauran A</th>\n      <th>Restauran B</th>\n    </tr>\n    <tr>\n      <th>City</th>\n      <th>Location</th>\n      <th></th>\n      <th></th>\n    </tr>\n  </thead>\n  <tbody>\n    <tr>\n      <th>Jakarta</th>\n      <th>3</th>\n      <td>98</td>\n      <td>75</td>\n    </tr>\n    <tr>\n      <th>Bandung</th>\n      <th>1</th>\n      <td>82</td>\n      <td>71</td>\n    </tr>\n    <tr>\n      <th>Jakarta</th>\n      <th>2</th>\n      <td>75</td>\n      <td>45</td>\n    </tr>\n    <tr>\n      <th>Bandung</th>\n      <th>3</th>\n      <td>48</td>\n      <td>88</td>\n    </tr>\n    <tr>\n      <th>Jakarta</th>\n      <th>1</th>\n      <td>26</td>\n      <td>13</td>\n    </tr>\n    <tr>\n      <th>Bandung</th>\n      <th>2</th>\n      <td>16</td>\n      <td>39</td>\n    </tr>\n  </tbody>\n</table>\n</div>"
     },
     "metadata": {},
     "execution_count": 41
    }
   ],
   "source": [
    "df.sort_values('Restauran A',ascending=False)"
   ]
  },
  {
   "cell_type": "code",
   "execution_count": 45,
   "metadata": {},
   "outputs": [
    {
     "output_type": "execute_result",
     "data": {
      "text/plain": [
       "                  Restauran A  Restauran B\n",
       "City    Location                          \n",
       "Jakarta 3                  98           75\n",
       "Bandung 1                  82           71\n",
       "Jakarta 2                  75           45\n",
       "Bandung 3                  48           88\n",
       "Jakarta 1                  26           13\n",
       "Bandung 2                  16           39"
      ],
      "text/html": "<div>\n<style scoped>\n    .dataframe tbody tr th:only-of-type {\n        vertical-align: middle;\n    }\n\n    .dataframe tbody tr th {\n        vertical-align: top;\n    }\n\n    .dataframe thead th {\n        text-align: right;\n    }\n</style>\n<table border=\"1\" class=\"dataframe\">\n  <thead>\n    <tr style=\"text-align: right;\">\n      <th></th>\n      <th></th>\n      <th>Restauran A</th>\n      <th>Restauran B</th>\n    </tr>\n    <tr>\n      <th>City</th>\n      <th>Location</th>\n      <th></th>\n      <th></th>\n    </tr>\n  </thead>\n  <tbody>\n    <tr>\n      <th>Jakarta</th>\n      <th>3</th>\n      <td>98</td>\n      <td>75</td>\n    </tr>\n    <tr>\n      <th>Bandung</th>\n      <th>1</th>\n      <td>82</td>\n      <td>71</td>\n    </tr>\n    <tr>\n      <th>Jakarta</th>\n      <th>2</th>\n      <td>75</td>\n      <td>45</td>\n    </tr>\n    <tr>\n      <th>Bandung</th>\n      <th>3</th>\n      <td>48</td>\n      <td>88</td>\n    </tr>\n    <tr>\n      <th>Jakarta</th>\n      <th>1</th>\n      <td>26</td>\n      <td>13</td>\n    </tr>\n    <tr>\n      <th>Bandung</th>\n      <th>2</th>\n      <td>16</td>\n      <td>39</td>\n    </tr>\n  </tbody>\n</table>\n</div>"
     },
     "metadata": {},
     "execution_count": 45
    }
   ],
   "source": [
    "df.sort_values('Restauran A',ascending=False,inplace=True)\n",
    "df"
   ]
  },
  {
   "cell_type": "code",
   "execution_count": 46,
   "metadata": {},
   "outputs": [
    {
     "output_type": "execute_result",
     "data": {
      "text/plain": [
       "                  Restauran A  Restauran B\n",
       "City    Location                          \n",
       "Bandung 2                  16           39\n",
       "Jakarta 1                  26           13\n",
       "Bandung 3                  48           88\n",
       "Jakarta 2                  75           45\n",
       "Bandung 1                  82           71\n",
       "Jakarta 3                  98           75"
      ],
      "text/html": "<div>\n<style scoped>\n    .dataframe tbody tr th:only-of-type {\n        vertical-align: middle;\n    }\n\n    .dataframe tbody tr th {\n        vertical-align: top;\n    }\n\n    .dataframe thead th {\n        text-align: right;\n    }\n</style>\n<table border=\"1\" class=\"dataframe\">\n  <thead>\n    <tr style=\"text-align: right;\">\n      <th></th>\n      <th></th>\n      <th>Restauran A</th>\n      <th>Restauran B</th>\n    </tr>\n    <tr>\n      <th>City</th>\n      <th>Location</th>\n      <th></th>\n      <th></th>\n    </tr>\n  </thead>\n  <tbody>\n    <tr>\n      <th>Bandung</th>\n      <th>2</th>\n      <td>16</td>\n      <td>39</td>\n    </tr>\n    <tr>\n      <th>Jakarta</th>\n      <th>1</th>\n      <td>26</td>\n      <td>13</td>\n    </tr>\n    <tr>\n      <th>Bandung</th>\n      <th>3</th>\n      <td>48</td>\n      <td>88</td>\n    </tr>\n    <tr>\n      <th>Jakarta</th>\n      <th>2</th>\n      <td>75</td>\n      <td>45</td>\n    </tr>\n    <tr>\n      <th>Bandung</th>\n      <th>1</th>\n      <td>82</td>\n      <td>71</td>\n    </tr>\n    <tr>\n      <th>Jakarta</th>\n      <th>3</th>\n      <td>98</td>\n      <td>75</td>\n    </tr>\n  </tbody>\n</table>\n</div>"
     },
     "metadata": {},
     "execution_count": 46
    }
   ],
   "source": [
    "df.sort_values(by=['Restauran A','Restauran B'])"
   ]
  },
  {
   "cell_type": "code",
   "execution_count": 48,
   "metadata": {},
   "outputs": [
    {
     "output_type": "execute_result",
     "data": {
      "text/plain": [
       "                  Restauran A  Restauran B\n",
       "City    Location                          \n",
       "Jakarta 3                  98           75\n",
       "Bandung 1                  82           71\n",
       "Jakarta 2                  75           45\n",
       "Bandung 3                  48           88\n",
       "Jakarta 1                  26           13\n",
       "Bandung 2                  16           39"
      ],
      "text/html": "<div>\n<style scoped>\n    .dataframe tbody tr th:only-of-type {\n        vertical-align: middle;\n    }\n\n    .dataframe tbody tr th {\n        vertical-align: top;\n    }\n\n    .dataframe thead th {\n        text-align: right;\n    }\n</style>\n<table border=\"1\" class=\"dataframe\">\n  <thead>\n    <tr style=\"text-align: right;\">\n      <th></th>\n      <th></th>\n      <th>Restauran A</th>\n      <th>Restauran B</th>\n    </tr>\n    <tr>\n      <th>City</th>\n      <th>Location</th>\n      <th></th>\n      <th></th>\n    </tr>\n  </thead>\n  <tbody>\n    <tr>\n      <th>Jakarta</th>\n      <th>3</th>\n      <td>98</td>\n      <td>75</td>\n    </tr>\n    <tr>\n      <th>Bandung</th>\n      <th>1</th>\n      <td>82</td>\n      <td>71</td>\n    </tr>\n    <tr>\n      <th>Jakarta</th>\n      <th>2</th>\n      <td>75</td>\n      <td>45</td>\n    </tr>\n    <tr>\n      <th>Bandung</th>\n      <th>3</th>\n      <td>48</td>\n      <td>88</td>\n    </tr>\n    <tr>\n      <th>Jakarta</th>\n      <th>1</th>\n      <td>26</td>\n      <td>13</td>\n    </tr>\n    <tr>\n      <th>Bandung</th>\n      <th>2</th>\n      <td>16</td>\n      <td>39</td>\n    </tr>\n  </tbody>\n</table>\n</div>"
     },
     "metadata": {},
     "execution_count": 48
    }
   ],
   "source": [
    "df.sort_values(by=['Restauran A','Restauran B'],\n",
    "ascending=[False,False])"
   ]
  },
  {
   "cell_type": "code",
   "execution_count": 49,
   "metadata": {},
   "outputs": [
    {
     "output_type": "execute_result",
     "data": {
      "text/plain": [
       "                  Restauran A  Restauran B\n",
       "City    Location                          \n",
       "Jakarta 3                  98           75\n",
       "Bandung 1                  82           71\n",
       "Jakarta 2                  75           45\n",
       "Bandung 3                  48           88\n",
       "Jakarta 1                  26           13\n",
       "Bandung 2                  16           39"
      ],
      "text/html": "<div>\n<style scoped>\n    .dataframe tbody tr th:only-of-type {\n        vertical-align: middle;\n    }\n\n    .dataframe tbody tr th {\n        vertical-align: top;\n    }\n\n    .dataframe thead th {\n        text-align: right;\n    }\n</style>\n<table border=\"1\" class=\"dataframe\">\n  <thead>\n    <tr style=\"text-align: right;\">\n      <th></th>\n      <th></th>\n      <th>Restauran A</th>\n      <th>Restauran B</th>\n    </tr>\n    <tr>\n      <th>City</th>\n      <th>Location</th>\n      <th></th>\n      <th></th>\n    </tr>\n  </thead>\n  <tbody>\n    <tr>\n      <th>Jakarta</th>\n      <th>3</th>\n      <td>98</td>\n      <td>75</td>\n    </tr>\n    <tr>\n      <th>Bandung</th>\n      <th>1</th>\n      <td>82</td>\n      <td>71</td>\n    </tr>\n    <tr>\n      <th>Jakarta</th>\n      <th>2</th>\n      <td>75</td>\n      <td>45</td>\n    </tr>\n    <tr>\n      <th>Bandung</th>\n      <th>3</th>\n      <td>48</td>\n      <td>88</td>\n    </tr>\n    <tr>\n      <th>Jakarta</th>\n      <th>1</th>\n      <td>26</td>\n      <td>13</td>\n    </tr>\n    <tr>\n      <th>Bandung</th>\n      <th>2</th>\n      <td>16</td>\n      <td>39</td>\n    </tr>\n  </tbody>\n</table>\n</div>"
     },
     "metadata": {},
     "execution_count": 49
    }
   ],
   "source": [
    "df.sort_values(by=['Restauran A','Restauran B'],\n",
    "ascending=[False,False],\n",
    "inplace=True)\n",
    "df"
   ]
  },
  {
   "cell_type": "code",
   "execution_count": 50,
   "metadata": {},
   "outputs": [
    {
     "output_type": "execute_result",
     "data": {
      "text/plain": [
       "                  Restauran A  Restauran B\n",
       "City    Location                          \n",
       "Bandung 1                  82           71\n",
       "        2                  16           39\n",
       "        3                  48           88\n",
       "Jakarta 1                  26           13\n",
       "        2                  75           45\n",
       "        3                  98           75"
      ],
      "text/html": "<div>\n<style scoped>\n    .dataframe tbody tr th:only-of-type {\n        vertical-align: middle;\n    }\n\n    .dataframe tbody tr th {\n        vertical-align: top;\n    }\n\n    .dataframe thead th {\n        text-align: right;\n    }\n</style>\n<table border=\"1\" class=\"dataframe\">\n  <thead>\n    <tr style=\"text-align: right;\">\n      <th></th>\n      <th></th>\n      <th>Restauran A</th>\n      <th>Restauran B</th>\n    </tr>\n    <tr>\n      <th>City</th>\n      <th>Location</th>\n      <th></th>\n      <th></th>\n    </tr>\n  </thead>\n  <tbody>\n    <tr>\n      <th rowspan=\"3\" valign=\"top\">Bandung</th>\n      <th>1</th>\n      <td>82</td>\n      <td>71</td>\n    </tr>\n    <tr>\n      <th>2</th>\n      <td>16</td>\n      <td>39</td>\n    </tr>\n    <tr>\n      <th>3</th>\n      <td>48</td>\n      <td>88</td>\n    </tr>\n    <tr>\n      <th rowspan=\"3\" valign=\"top\">Jakarta</th>\n      <th>1</th>\n      <td>26</td>\n      <td>13</td>\n    </tr>\n    <tr>\n      <th>2</th>\n      <td>75</td>\n      <td>45</td>\n    </tr>\n    <tr>\n      <th>3</th>\n      <td>98</td>\n      <td>75</td>\n    </tr>\n  </tbody>\n</table>\n</div>"
     },
     "metadata": {},
     "execution_count": 50
    }
   ],
   "source": [
    "df.sort_index()"
   ]
  },
  {
   "cell_type": "code",
   "execution_count": 52,
   "metadata": {},
   "outputs": [
    {
     "output_type": "execute_result",
     "data": {
      "text/plain": [
       "                  Restauran A  Restauran B\n",
       "City    Location                          \n",
       "Bandung 1                  82           71\n",
       "        2                  16           39\n",
       "        3                  48           88\n",
       "Jakarta 1                  26           13\n",
       "        2                  75           45\n",
       "        3                  98           75"
      ],
      "text/html": "<div>\n<style scoped>\n    .dataframe tbody tr th:only-of-type {\n        vertical-align: middle;\n    }\n\n    .dataframe tbody tr th {\n        vertical-align: top;\n    }\n\n    .dataframe thead th {\n        text-align: right;\n    }\n</style>\n<table border=\"1\" class=\"dataframe\">\n  <thead>\n    <tr style=\"text-align: right;\">\n      <th></th>\n      <th></th>\n      <th>Restauran A</th>\n      <th>Restauran B</th>\n    </tr>\n    <tr>\n      <th>City</th>\n      <th>Location</th>\n      <th></th>\n      <th></th>\n    </tr>\n  </thead>\n  <tbody>\n    <tr>\n      <th rowspan=\"3\" valign=\"top\">Bandung</th>\n      <th>1</th>\n      <td>82</td>\n      <td>71</td>\n    </tr>\n    <tr>\n      <th>2</th>\n      <td>16</td>\n      <td>39</td>\n    </tr>\n    <tr>\n      <th>3</th>\n      <td>48</td>\n      <td>88</td>\n    </tr>\n    <tr>\n      <th rowspan=\"3\" valign=\"top\">Jakarta</th>\n      <th>1</th>\n      <td>26</td>\n      <td>13</td>\n    </tr>\n    <tr>\n      <th>2</th>\n      <td>75</td>\n      <td>45</td>\n    </tr>\n    <tr>\n      <th>3</th>\n      <td>98</td>\n      <td>75</td>\n    </tr>\n  </tbody>\n</table>\n</div>"
     },
     "metadata": {},
     "execution_count": 52
    }
   ],
   "source": [
    "df.sort_index(inplace=True)\n",
    "df"
   ]
  }
 ]
}